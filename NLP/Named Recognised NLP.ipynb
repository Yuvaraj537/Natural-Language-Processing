{
 "cells": [
  {
   "cell_type": "markdown",
   "id": "83d4e7a9-e09c-4d3f-87a7-ae4085551cf7",
   "metadata": {},
   "source": [
    "# Named Entity Recognised"
   ]
  },
  {
   "cell_type": "code",
   "execution_count": 4,
   "id": "59dccdc6-dc6b-4669-b280-752da785ef41",
   "metadata": {},
   "outputs": [],
   "source": [
    "sentences =\"The Eiffel Tower was built from 1887 to 1889 by French engineer Gustave Eiffel,whose company specialize in building metal frameworks and structures.\""
   ]
  },
  {
   "cell_type": "code",
   "execution_count": 48,
   "id": "1e9a34ef-eed6-4377-ba56-29f955dee1e3",
   "metadata": {},
   "outputs": [
    {
     "data": {
      "text/plain": [
       "['The',\n",
       " 'Eiffel',\n",
       " 'Tower',\n",
       " 'was',\n",
       " 'built',\n",
       " 'from',\n",
       " '1887',\n",
       " 'to',\n",
       " '1889',\n",
       " 'by',\n",
       " 'French',\n",
       " 'engineer',\n",
       " 'Gustave',\n",
       " 'Eiffel',\n",
       " ',',\n",
       " 'whose',\n",
       " 'company',\n",
       " 'specialize',\n",
       " 'in',\n",
       " 'building',\n",
       " 'metal',\n",
       " 'frameworks',\n",
       " 'and',\n",
       " 'structures',\n",
       " '.']"
      ]
     },
     "execution_count": 48,
     "metadata": {},
     "output_type": "execute_result"
    }
   ],
   "source": [
    "import nltk\n",
    "nltk.word_tokenize(sentences)"
   ]
  },
  {
   "cell_type": "code",
   "execution_count": 56,
   "id": "cfc887e5-292f-4086-9952-d40eeb03a169",
   "metadata": {},
   "outputs": [
    {
     "name": "stdout",
     "output_type": "stream",
     "text": [
      "[('The', 'DT'), ('Eiffel', 'NNP'), ('Tower', 'NNP'), ('was', 'VBD'), ('built', 'VBN'), ('from', 'IN'), ('1887', 'CD'), ('to', 'TO'), ('1889', 'CD'), ('by', 'IN'), ('French', 'JJ'), ('engineer', 'NN'), ('Gustave', 'NNP'), ('Eiffel', 'NNP'), (',', ','), ('whose', 'WP$'), ('company', 'NN'), ('specializes', 'VBZ'), ('in', 'IN'), ('building', 'VBG'), ('metal', 'NN'), ('frameworks', 'NNS'), ('and', 'CC'), ('structures', 'NNS'), ('.', '.')]\n"
     ]
    }
   ],
   "source": [
    "import nltk\n",
    "from nltk.tokenize import word_tokenize\n",
    "\n",
    "sentences = \"The Eiffel Tower was built from 1887 to 1889 by French engineer Gustave Eiffel, whose company specializes in building metal frameworks and structures.\"\n",
    "\n",
    "# Tokenizing the sentence into words\n",
    "words = word_tokenize(sentences)\n",
    "\n",
    "# Performing POS tagging\n",
    "tag_elements = nltk.pos_tag(words)\n",
    "\n",
    "print(tag_elements) "
   ]
  },
  {
   "cell_type": "code",
   "execution_count": 62,
   "id": "d2fef772-b5d5-4bb5-87c1-a8dc5f03a9ba",
   "metadata": {},
   "outputs": [
    {
     "name": "stderr",
     "output_type": "stream",
     "text": [
      "[nltk_data] Downloading package maxent_ne_chunker to\n",
      "[nltk_data]     C:\\Users\\yuvar\\AppData\\Roaming\\nltk_data...\n",
      "[nltk_data]   Unzipping chunkers\\maxent_ne_chunker.zip.\n"
     ]
    },
    {
     "data": {
      "text/plain": [
       "True"
      ]
     },
     "execution_count": 62,
     "metadata": {},
     "output_type": "execute_result"
    }
   ],
   "source": [
    "import nltk\n",
    "nltk.download('maxent_ne_chunker')"
   ]
  },
  {
   "cell_type": "code",
   "execution_count": 66,
   "id": "b139b3a7-ea2f-46f1-921e-fb3d07961a10",
   "metadata": {},
   "outputs": [
    {
     "name": "stderr",
     "output_type": "stream",
     "text": [
      "[nltk_data] Downloading package words to\n",
      "[nltk_data]     C:\\Users\\yuvar\\AppData\\Roaming\\nltk_data...\n",
      "[nltk_data]   Unzipping corpora\\words.zip.\n"
     ]
    },
    {
     "data": {
      "text/plain": [
       "True"
      ]
     },
     "execution_count": 66,
     "metadata": {},
     "output_type": "execute_result"
    }
   ],
   "source": [
    "nltk.download('words')"
   ]
  },
  {
   "cell_type": "code",
   "execution_count": 70,
   "id": "d73d2c2f-9564-40b3-8299-ef713a33cefd",
   "metadata": {},
   "outputs": [],
   "source": [
    "nltk.ne_chunk(tag_elements).draw()"
   ]
  }
 ],
 "metadata": {
  "kernelspec": {
   "display_name": "Python 3 (ipykernel)",
   "language": "python",
   "name": "python3"
  },
  "language_info": {
   "codemirror_mode": {
    "name": "ipython",
    "version": 3
   },
   "file_extension": ".py",
   "mimetype": "text/x-python",
   "name": "python",
   "nbconvert_exporter": "python",
   "pygments_lexer": "ipython3",
   "version": "3.12.4"
  }
 },
 "nbformat": 4,
 "nbformat_minor": 5
}
